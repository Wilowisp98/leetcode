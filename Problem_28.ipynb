{
 "cells": [
  {
   "cell_type": "code",
   "execution_count": 34,
   "metadata": {},
   "outputs": [],
   "source": [
    "class Solution(object):\n",
    "    def strStr(self, haystack, needle):\n",
    "        \"\"\"\n",
    "        :type haystack: str\n",
    "        :type needle: str\n",
    "        :rtype: int\n",
    "        \"\"\"\n",
    "        \n",
    "        if len(needle) > len(haystack):\n",
    "            return -1\n",
    "        \n",
    "        i = 0\n",
    "        needle_size = len(needle)\n",
    "\n",
    "        while i < len(haystack):\n",
    "\n",
    "            pos = 0\n",
    "\n",
    "            while i < len(haystack) and haystack[i] == needle[pos]:\n",
    "                if pos == needle_size - 1:\n",
    "                    return i - (needle_size-1)\n",
    "                else:\n",
    "                    i += 1\n",
    "                    pos += 1\n",
    "                \n",
    "            i -= pos\n",
    "            i += 1\n",
    "\n",
    "        return -1"
   ]
  }
 ],
 "metadata": {
  "kernelspec": {
   "display_name": "Python 3",
   "language": "python",
   "name": "python3"
  },
  "language_info": {
   "codemirror_mode": {
    "name": "ipython",
    "version": 3
   },
   "file_extension": ".py",
   "mimetype": "text/x-python",
   "name": "python",
   "nbconvert_exporter": "python",
   "pygments_lexer": "ipython3",
   "version": "3.10.11"
  }
 },
 "nbformat": 4,
 "nbformat_minor": 2
}
