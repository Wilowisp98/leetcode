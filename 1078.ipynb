{
 "cells": [
  {
   "cell_type": "code",
   "execution_count": null,
   "metadata": {},
   "outputs": [],
   "source": [
    "class Solution(object):\n",
    "    def gcdOfStrings(self, str1, str2):\n",
    "        \"\"\"\n",
    "        :type str1: str\n",
    "        :type str2: str\n",
    "        :rtype: str\n",
    "        \"\"\"\n",
    "        str1_size = len(str1)\n",
    "        str2_size = len(str2)\n",
    "        accepted_sizes = self.common_divisors(str1_size, str2_size)\n",
    "        final_word = ''\n",
    "\n",
    "        for i in accepted_sizes:\n",
    "            str1_copy = str1\n",
    "            str2_copy = str2\n",
    "            if str1[0:i] in str2:\n",
    "                if str1_copy.replace(str(str1[0:i]), '') == str2_copy.replace(str(str1[0:i]), '') == '':\n",
    "                    final_word = str1[0:i]\n",
    "        \n",
    "        return final_word\n",
    "        \n",
    "    def common_divisors(self, n1, n2):\n",
    "        divisors = []\n",
    "        for i in range(1,min(n1,n2)+1):\n",
    "            if n1%i==n2%i==0:\n",
    "                divisors.append(i)\n",
    "        return divisors"
   ]
  },
  {
   "cell_type": "code",
   "execution_count": null,
   "metadata": {},
   "outputs": [],
   "source": [
    "# Someone solution, who looks really nice!\n",
    "\n",
    "class Solution(object):\n",
    "    def gcdOfStrings(self, str1, str2):\n",
    "        if str1 + str2 != str2 + str1:\n",
    "            return \"\"\n",
    "        if len(str1) == len(str2):\n",
    "            return str1\n",
    "        if len(str1) > len(str2):\n",
    "            return self.gcdOfStrings(str1[len(str2):], str2)\n",
    "        return self.gcdOfStrings(str1, str2[len(str1):])"
   ]
  }
 ],
 "metadata": {
  "kernelspec": {
   "display_name": "Python 3",
   "language": "python",
   "name": "python3"
  },
  "language_info": {
   "codemirror_mode": {
    "name": "ipython",
    "version": 3
   },
   "file_extension": ".py",
   "mimetype": "text/x-python",
   "name": "python",
   "nbconvert_exporter": "python",
   "pygments_lexer": "ipython3",
   "version": "3.11.3"
  }
 },
 "nbformat": 4,
 "nbformat_minor": 2
}
