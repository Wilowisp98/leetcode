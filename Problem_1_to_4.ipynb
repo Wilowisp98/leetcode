{
 "cells": [
  {
   "attachments": {},
   "cell_type": "markdown",
   "metadata": {},
   "source": [
    "## 1. Two Sum"
   ]
  },
  {
   "attachments": {},
   "cell_type": "markdown",
   "metadata": {},
   "source": [
    "Given an array of integers nums and an integer target, return indices of the two numbers such that they add up to target.\n",
    "\n",
    "You may assume that each input would have exactly one solution, and you may not use the same element twice.\n",
    "\n",
    "You can return the answer in any order.\n",
    "\n",
    "### Example 1:\n",
    "\n",
    "**Input:** nums = [2,7,11,15], target = 9\n",
    "\n",
    "**Output:** [0,1]\n",
    "\n",
    "**Explanation:** Because nums[0] + nums[1] == 9, we return [0, 1].\n",
    "\n",
    "### Example 2:\n",
    "\n",
    "**Input:** nums = [3,2,4], target = 6\n",
    "\n",
    "**Output:** [1,2]\n",
    "\n",
    "### Example 3:\n",
    "\n",
    "**Input:** nums = [3,3], target = 6\n",
    "\n",
    "**Output:** [0,1]\n",
    "\n"
   ]
  },
  {
   "attachments": {},
   "cell_type": "markdown",
   "metadata": {},
   "source": [
    "## Solution"
   ]
  },
  {
   "cell_type": "code",
   "execution_count": 23,
   "metadata": {},
   "outputs": [],
   "source": [
    "class Solution(object):\n",
    "\tdef twoSum(nums, target):\n",
    "\t\t\"\"\"\n",
    "\t\t:type nums: List[int]\n",
    "\t\t:type target: int\n",
    "\t\t:rtype: List[int]\n",
    "\t\t\"\"\"\n",
    "\t\tdiff = {}\n",
    "\t\tfor i, j in enumerate(nums):\n",
    "\t\t\tif target - j in diff:\n",
    "\t\t\t\treturn (diff[target-j], i)\n",
    "\t\t\tdiff[j] = i\n",
    "\t\treturn 'Combination not found'\n"
   ]
  },
  {
   "attachments": {},
   "cell_type": "markdown",
   "metadata": {},
   "source": [
    "## 2. Add Two Numbers"
   ]
  },
  {
   "attachments": {},
   "cell_type": "markdown",
   "metadata": {},
   "source": [
    "You are given two non-empty linked lists representing two non-negative integers. The digits are stored in reverse order, and each of their nodes contains a single digit. Add the two numbers and return the sum as a linked list.\n",
    "\n",
    "You may assume the two numbers do not contain any leading zero, except the number 0 itself."
   ]
  },
  {
   "attachments": {},
   "cell_type": "markdown",
   "metadata": {},
   "source": [
    "### Example 1:\n",
    "\n",
    "![Alt text](Images/Add%20Two%20Numbers.jpg)\n",
    "\n",
    "**Input:** l1 = [2,4,3], l2 = [5,6,4]\n",
    "\n",
    "**Output:** [7,0,8]\n",
    "\n",
    "**Explanation:** 342 + 465 = 807.\n",
    "\n",
    "### Example 2:\n",
    "\n",
    "**Input:** l1 = [0], l2 = [0]\n",
    "\n",
    "**Output:** [0]\n",
    "\n",
    "### Example 3:\n",
    "\n",
    "**Input:** l1 = [9,9,9,9,9,9,9], l2 = [9,9,9,9]\n",
    "\n",
    "**Output:** [8,9,9,9,0,0,0,1]"
   ]
  },
  {
   "attachments": {},
   "cell_type": "markdown",
   "metadata": {},
   "source": [
    "## Solution"
   ]
  },
  {
   "cell_type": "code",
   "execution_count": null,
   "metadata": {},
   "outputs": [],
   "source": [
    "class Solution(object):\n",
    "    def addTwoNumbers(self, l1, l2):\n",
    "        sum1 = 0\n",
    "        current = l1\n",
    "        i = 0\n",
    "        while current:\n",
    "            sum1 += current.val * (10 ** i)\n",
    "            current = current.next\n",
    "            i += 1\n",
    "\n",
    "        sum2 = 0\n",
    "        current = l2\n",
    "        i = 0\n",
    "        while current:\n",
    "            sum2 += current.val * (10 ** i)\n",
    "            current = current.next\n",
    "            i += 1\n",
    "\n",
    "        total_sum = sum1 + sum2\n",
    "        num_str = str(total_sum)\n",
    "        dummy_head = ListNode()\n",
    "        current = dummy_head\n",
    "        for digit in num_str[::-1]:\n",
    "            current.next = ListNode(int(digit))\n",
    "            current = current.next\n",
    "\n",
    "        return dummy_head.next\n",
    "    \n",
    "# Podia ter usado algo como um carry, onde levava o resto para a iteração seguinte."
   ]
  },
  {
   "attachments": {},
   "cell_type": "markdown",
   "metadata": {},
   "source": [
    "## 3. Longest Substring Without Repeating Characters\n"
   ]
  },
  {
   "attachments": {},
   "cell_type": "markdown",
   "metadata": {},
   "source": [
    "Given a string s, find the length of the longest\n",
    "substring\n",
    "without repeating characters."
   ]
  },
  {
   "attachments": {},
   "cell_type": "markdown",
   "metadata": {},
   "source": [
    "### Example 1:\n",
    "\n",
    "**Input:** s = \"abcabcbb\"\n",
    "\n",
    "**Output:** 3\n",
    "\n",
    "**Explanation:** The answer is \"abc\", with the length of 3.\n",
    "\n",
    "### Example 2:\n",
    "\n",
    "**Input:** s = \"bbbbb\"\n",
    "\n",
    "**Output:** 1\n",
    "\n",
    "**Explanation:** The answer is \"b\", with the length of 1.\n"
   ]
  },
  {
   "attachments": {},
   "cell_type": "markdown",
   "metadata": {},
   "source": [
    "### Example 3:\n",
    "\n",
    "**Input:** s = \"pwwkew\"\n",
    "\n",
    "**Output:** 3\n",
    "\n",
    "**Explanation:** The answer is \"wke\", with the length of 3.\n"
   ]
  },
  {
   "cell_type": "code",
   "execution_count": 92,
   "metadata": {},
   "outputs": [],
   "source": [
    "class Solution(object):\n",
    "\tdef lengthOfLongestSubstring(self,s):\n",
    "\t\tif s == '':\n",
    "\t\t\treturn 0\n",
    "\t\tn = 1\n",
    "\t\tpos = {s[0]: 0}\n",
    "\t\tword = str(s[0])\n",
    "\t\tmax_word = str(s[0])\n",
    "\t\tmax_length = 1\n",
    "\t\tcounter = 1\n",
    "\t\twhile n < len(s):\n",
    "\t\t\tif s[n] in pos:\n",
    "\t\t\t\tnew_n = pos[s[n]] + 1\n",
    "\t\t\t\tif counter > max_length:\n",
    "\t\t\t\t\tmax_word = word\n",
    "\t\t\t\t\tmax_length = counter\n",
    "\t\t\t\tword = s[new_n]\n",
    "\t\t\t\tpos = {s[new_n]: new_n}\n",
    "\t\t\t\tn = new_n + 1\n",
    "\t\t\t\tcounter = 1\n",
    "\t\t\telse:\n",
    "\t\t\t\tword += s[n]\n",
    "\t\t\t\tpos[s[n]] = n\n",
    "\t\t\t\tcounter += 1\n",
    "\t\t\t\tn += 1\n",
    "\t\tif counter > max_length:\n",
    "\t\t\tmax_word = word\n",
    "\t\t\tmax_length = counter\n",
    "\t\treturn max_length\n"
   ]
  },
  {
   "cell_type": "code",
   "execution_count": 31,
   "metadata": {},
   "outputs": [],
   "source": [
    "class Solution(object):\n",
    "    def lengthOfLongestSubstring(self, s):\n",
    "        seen = {}\n",
    "        l = 0\n",
    "        length = 0\n",
    "        for r in range(len(s)):\n",
    "            char = s[r]\n",
    "            if char in seen and seen[char] >= l:\n",
    "                l = seen[char] + 1\n",
    "            else:\n",
    "                length = max(length, r - l + 1)\n",
    "            seen[char] = r\n",
    "        return length"
   ]
  },
  {
   "attachments": {},
   "cell_type": "markdown",
   "metadata": {},
   "source": [
    "## 4. Median of Two Sorted Arrays"
   ]
  },
  {
   "attachments": {},
   "cell_type": "markdown",
   "metadata": {},
   "source": [
    "Given two sorted arrays nums1 and nums2 of size m and n respectively, return the median of the two sorted arrays.\n",
    "\n",
    "The overall run time complexity should be O(log (m+n))."
   ]
  },
  {
   "attachments": {},
   "cell_type": "markdown",
   "metadata": {},
   "source": [
    "### Example 1:\n",
    "\n",
    "**Input:** nums1 = [1,3], nums2 = [2]\n",
    "\n",
    "**Output:** 2.00000\n",
    "\n",
    "**Explanation:** merged array = [1,2,3] and median is 2.\n",
    "\n",
    "### Example 2:\n",
    "\n",
    "**Input:** nums1 = [1,2], nums2 = [3,4]\n",
    "\n",
    "**Output:** 2.50000\n",
    "\n",
    "**Explanation:** merged array = [1,2,3,4] and median is (2 + 3) / 2 = 2.5."
   ]
  },
  {
   "cell_type": "code",
   "execution_count": 47,
   "metadata": {},
   "outputs": [],
   "source": [
    "class Solution(object):\n",
    "    def findMedianSortedArrays(self, nums1, nums2):\n",
    "        \"\"\"\n",
    "        :type nums1: List[int]\n",
    "        :type nums2: List[int] \n",
    "        :rtype: float\n",
    "        \"\"\"\n",
    "        c = nums1 + nums2\n",
    "        c.sort()\n",
    "        sz = len(c)\n",
    "        if sz % 2 == 0:\n",
    "            return ((c[int(sz/2)] + c[int((sz/2)-1)]))/ 2\n",
    "        else:\n",
    "            return c[int(5/2)-1]\n"
   ]
  },
  {
   "cell_type": "code",
   "execution_count": 1,
   "metadata": {},
   "outputs": [],
   "source": [
    "# My initial solution\n",
    "class Solution(object):\n",
    "    def findMedianSortedArrays(self, nums1, nums2):\n",
    "        \"\"\"\n",
    "        :type nums1: List[int]\n",
    "        :type nums2: List[int] \n",
    "        :rtype: float\n",
    "        \"\"\"\n",
    "        c = nums1 + nums2\n",
    "        c.sort()\n",
    "        sz = len(c)\n",
    "        if sz % 2 == 0:\n",
    "            return ((c[int(sz/2)] + c[int((sz/2)-1)]))/ 2\n",
    "        else:\n",
    "            return c[int(5/2)-1]\n",
    "\n",
    "# Optimal Solution:\n",
    "# Intuition: What's the median? Well, if we separate an array into two halfs of equal size (if the size of it is even), the median is avegare of the max value of the first half and the min value of the second half.\n",
    "# If the size of the array is odd, it's simply the the max of the first half (attention: the first half must be the size of the second half plus 1).\n",
    "# The objective is then to find those partitions."
   ]
  }
 ],
 "metadata": {
  "kernelspec": {
   "display_name": "Python 3",
   "language": "python",
   "name": "python3"
  },
  "language_info": {
   "codemirror_mode": {
    "name": "ipython",
    "version": 3
   },
   "file_extension": ".py",
   "mimetype": "text/x-python",
   "name": "python",
   "nbconvert_exporter": "python",
   "pygments_lexer": "ipython3",
   "version": "3.10.11"
  },
  "orig_nbformat": 4
 },
 "nbformat": 4,
 "nbformat_minor": 2
}
