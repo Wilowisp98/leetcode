{
 "cells": [
  {
   "cell_type": "code",
   "execution_count": 98,
   "metadata": {},
   "outputs": [],
   "source": [
    "# FIRST SOLUTION\n",
    "\n",
    "class Solution:\n",
    "    def threeSumClosest(self, nums: list[int], target: int) -> int:\n",
    "\n",
    "        if len(nums) <= 3:\n",
    "            return sum(nums)\n",
    "        \n",
    "        nums.sort()\n",
    "        \n",
    "        iter = 0\n",
    "        \n",
    "        closest_sum = nums[0] + nums[1] + nums[-1]\n",
    "\n",
    "        while iter <= len(nums) - 2:\n",
    "\n",
    "            r_pointer = len(nums) - 1\n",
    "            l_pointer = iter + 1\n",
    "\n",
    "            while r_pointer != l_pointer:\n",
    "                \n",
    "                current_sum = nums[iter] + nums[l_pointer] + nums[r_pointer]\n",
    "\n",
    "                if current_sum == target:\n",
    "                    return target\n",
    "                \n",
    "                elif abs(current_sum - target) < abs(closest_sum - target):\n",
    "\n",
    "                    closest_sum = current_sum\n",
    "\n",
    "                if current_sum < target:\n",
    "                    l_pointer += 1\n",
    "\n",
    "                else:\n",
    "                    r_pointer -= 1\n",
    "\n",
    "            iter += 1\n",
    "\n",
    "        return closest_sum"
   ]
  }
 ],
 "metadata": {
  "kernelspec": {
   "display_name": "Python 3",
   "language": "python",
   "name": "python3"
  },
  "language_info": {
   "codemirror_mode": {
    "name": "ipython",
    "version": 3
   },
   "file_extension": ".py",
   "mimetype": "text/x-python",
   "name": "python",
   "nbconvert_exporter": "python",
   "pygments_lexer": "ipython3",
   "version": "3.11.3"
  }
 },
 "nbformat": 4,
 "nbformat_minor": 2
}
