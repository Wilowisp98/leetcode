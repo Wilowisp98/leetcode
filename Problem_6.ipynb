{
 "cells": [
  {
   "cell_type": "code",
   "execution_count": 3,
   "metadata": {},
   "outputs": [],
   "source": [
    "# FIRST SOLUTION\n",
    "\n",
    "class Solution:\n",
    "    def convert(self, s: str, numRows: int) -> str:\n",
    "\n",
    "        if numRows == 1 or numRows >= len(s):\n",
    "            return s\n",
    "\n",
    "        lines = ['' for i in range(numRows)]\n",
    "\n",
    "        iter = 0\n",
    "\n",
    "        while True:\n",
    "            try:\n",
    "                pos = 0\n",
    "                for i in range((numRows * iter) + ((numRows - 2) * iter), (numRows * iter) + ((numRows - 2) * iter) + numRows):\n",
    "                    lines[pos] += s[i]\n",
    "                    pos += 1\n",
    "\n",
    "                pos = numRows - 2\n",
    "                for i in range((numRows * iter) + ((numRows - 2) * iter) + numRows, (numRows * (iter + 1)) + ((numRows - 2) * (iter + 1))):\n",
    "                    lines[pos] += s[i]\n",
    "                    pos -= 1\n",
    "\n",
    "                iter += 1\n",
    "            except IndexError:\n",
    "                break\n",
    "\n",
    "        return ''.join(lines)"
   ]
  },
  {
   "cell_type": "markdown",
   "metadata": {},
   "source": [
    "I divided the solution into two parts: \n",
    "- The first part handles the characters on the horizontal lines.\n",
    "- The second part handles the characters on the diagonal lines."
   ]
  }
 ],
 "metadata": {
  "kernelspec": {
   "display_name": "Python 3",
   "language": "python",
   "name": "python3"
  },
  "language_info": {
   "codemirror_mode": {
    "name": "ipython",
    "version": 3
   },
   "file_extension": ".py",
   "mimetype": "text/x-python",
   "name": "python",
   "nbconvert_exporter": "python",
   "pygments_lexer": "ipython3",
   "version": "3.10.11"
  }
 },
 "nbformat": 4,
 "nbformat_minor": 2
}
