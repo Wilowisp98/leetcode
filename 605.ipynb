{
 "cells": [
  {
   "cell_type": "code",
   "execution_count": null,
   "metadata": {},
   "outputs": [],
   "source": [
    "class Solution(object):\n",
    "    def canPlaceFlowers(self, flowerbed, n):\n",
    "        \"\"\"\n",
    "        :type flowerbed: List[int]\n",
    "        :type n: int\n",
    "        :rtype: bool\n",
    "        \"\"\"\n",
    "        flowerbed_size = len(flowerbed)\n",
    "        if flowerbed_size == 0:\n",
    "            return False\n",
    "        \n",
    "        planted_counter = 0\n",
    "\n",
    "        pos = 0\n",
    "        if len(flowerbed) > 1 and flowerbed[1] == 1:\n",
    "            pos += 3\n",
    "        elif flowerbed[0] == 1:\n",
    "            pos += 2\n",
    "        else:\n",
    "            pos += 2\n",
    "            planted_counter += 1\n",
    "\n",
    "        while pos < flowerbed_size:\n",
    "            if pos + 1 < flowerbed_size and flowerbed[pos + 1] == 1:\n",
    "                pos += 3\n",
    "            elif flowerbed[pos] == 1:\n",
    "                pos += 2\n",
    "            elif flowerbed[pos - 1] == 1:\n",
    "                pos += 1\n",
    "            else:\n",
    "                pos += 2\n",
    "                planted_counter += 1\n",
    "        \n",
    "        if planted_counter >= n:\n",
    "            return True\n",
    "        return False"
   ]
  }
 ],
 "metadata": {
  "kernelspec": {
   "display_name": "Python 3",
   "language": "python",
   "name": "python3"
  },
  "language_info": {
   "codemirror_mode": {
    "name": "ipython",
    "version": 3
   },
   "file_extension": ".py",
   "mimetype": "text/x-python",
   "name": "python",
   "nbconvert_exporter": "python",
   "pygments_lexer": "ipython3",
   "version": "3.11.3"
  }
 },
 "nbformat": 4,
 "nbformat_minor": 2
}
