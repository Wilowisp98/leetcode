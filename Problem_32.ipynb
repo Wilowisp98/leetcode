{
 "cells": [
  {
   "cell_type": "code",
   "execution_count": null,
   "metadata": {},
   "outputs": [],
   "source": [
    "class Solution(object):\n",
    "    def longestValidParentheses(self, s):\n",
    "        stack = [-1]\n",
    "        n = len(s)\n",
    "        maxlen = 0\n",
    "        for i in range(n):\n",
    "            if s[i] == '(':\n",
    "                stack.append(i)\n",
    "            else:\n",
    "                stack.pop()\n",
    "                if not stack:\n",
    "                    stack.append(i)\n",
    "                else:\n",
    "                    maxlen = max(maxlen, i - stack[-1])\n",
    "        return maxlen"
   ]
  }
 ],
 "metadata": {
  "kernelspec": {
   "display_name": "Python 3",
   "language": "python",
   "name": "python3"
  },
  "language_info": {
   "codemirror_mode": {
    "name": "ipython",
    "version": 3
   },
   "file_extension": ".py",
   "mimetype": "text/x-python",
   "name": "python",
   "nbconvert_exporter": "python",
   "pygments_lexer": "ipython3",
   "version": "3.11.3"
  }
 },
 "nbformat": 4,
 "nbformat_minor": 2
}
