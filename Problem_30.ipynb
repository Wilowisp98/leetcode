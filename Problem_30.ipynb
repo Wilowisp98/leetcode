{
 "cells": [
  {
   "cell_type": "code",
   "execution_count": 70,
   "metadata": {},
   "outputs": [],
   "source": [
    "# FIRST SOLUTION\n",
    "\n",
    "class Solution(object):\n",
    "    def findSubstring(self, s, words):\n",
    "        \"\"\"\n",
    "        :type s: str\n",
    "        :type words: List[str]\n",
    "        :rtype: List[int]\n",
    "        \"\"\"\n",
    "\n",
    "        if len(words[0]) > len(s):\n",
    "            return []\n",
    "        \n",
    "        possible_words = []\n",
    "\n",
    "        for i in range(len(words)):\n",
    "\n",
    "            self.words_generated = []\n",
    "            words_to_concat = words[:i] + words[i+1:]\n",
    "            self.generate_recursive(words[i], words_to_concat)\n",
    "            possible_words += self.words_generated\n",
    "        \n",
    "        word_size = len(possible_words[0])\n",
    "\n",
    "        positions = []\n",
    "\n",
    "        for word in list(set(possible_words)):\n",
    "\n",
    "            pos = 0\n",
    "\n",
    "            while len(s) - pos >= word_size:\n",
    "\n",
    "                if s[pos:pos+word_size] == word:\n",
    "                    positions.append(pos)\n",
    "\n",
    "                pos += 1\n",
    "        \n",
    "        return positions\n",
    "\n",
    "    def generate_recursive(self, new_word, words):\n",
    "    \n",
    "        if len(words) == 0:\n",
    "\n",
    "            self.words_generated.append(new_word)\n",
    "            return\n",
    "\n",
    "        for i in range(len(words)):\n",
    "\n",
    "            next_word = new_word + words[i]\n",
    "            remaining_words = words[:i] + words[i+1:]\n",
    "            self.generate_recursive(next_word, remaining_words)\n"
   ]
  }
 ],
 "metadata": {
  "kernelspec": {
   "display_name": "Python 3",
   "language": "python",
   "name": "python3"
  },
  "language_info": {
   "codemirror_mode": {
    "name": "ipython",
    "version": 3
   },
   "file_extension": ".py",
   "mimetype": "text/x-python",
   "name": "python",
   "nbconvert_exporter": "python",
   "pygments_lexer": "ipython3",
   "version": "3.11.3"
  }
 },
 "nbformat": 4,
 "nbformat_minor": 2
}
