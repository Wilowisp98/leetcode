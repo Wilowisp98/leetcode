{
 "cells": [
  {
   "cell_type": "code",
   "execution_count": 3,
   "metadata": {},
   "outputs": [],
   "source": [
    "# FIRST SOLUTION\n",
    "\n",
    "class Solution(object):\n",
    "    def generateParenthesis(self, n: int) -> list[str]:\n",
    "        \n",
    "        def dfs(left, right, word):\n",
    "            \n",
    "            if len(word) == n * 2:\n",
    "                par_list.append(word)\n",
    "                return \n",
    "            \n",
    "            if left < n:\n",
    "                dfs(left + 1, right, word + '(')\n",
    "\n",
    "            if right < left:\n",
    "                dfs(left, right + 1, word + ')')\n",
    "\n",
    "        par_list = []\n",
    "        dfs(0, 0, '')\n",
    "        return par_list"
   ]
  }
 ],
 "metadata": {
  "kernelspec": {
   "display_name": "Python 3",
   "language": "python",
   "name": "python3"
  },
  "language_info": {
   "codemirror_mode": {
    "name": "ipython",
    "version": 3
   },
   "file_extension": ".py",
   "mimetype": "text/x-python",
   "name": "python",
   "nbconvert_exporter": "python",
   "pygments_lexer": "ipython3",
   "version": "3.10.11"
  }
 },
 "nbformat": 4,
 "nbformat_minor": 2
}
