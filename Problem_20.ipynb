{
 "cells": [
  {
   "cell_type": "code",
   "execution_count": 25,
   "metadata": {},
   "outputs": [],
   "source": [
    "# FIRST SOLUTION\n",
    "\n",
    "class Solution:\n",
    "    def isValid(self, s: str) -> bool:\n",
    "\n",
    "        if len(s) % 2 != 0:\n",
    "            return False\n",
    "        \n",
    "        dict = {\n",
    "            '(' : ')',\n",
    "            '{' : '}',\n",
    "            '[' : ']'\n",
    "        }\n",
    "\n",
    "        stack = []\n",
    "\n",
    "        for i in s:\n",
    "            \n",
    "            if i in dict:\n",
    "                stack.append(i)\n",
    "                  \n",
    "            else:\n",
    "                if (not stack) or (dict[stack[-1]] != i):\n",
    "                    return False\n",
    "\n",
    "                stack.pop()\n",
    "        \n",
    "        return not stack"
   ]
  }
 ],
 "metadata": {
  "kernelspec": {
   "display_name": "Python 3",
   "language": "python",
   "name": "python3"
  },
  "language_info": {
   "codemirror_mode": {
    "name": "ipython",
    "version": 3
   },
   "file_extension": ".py",
   "mimetype": "text/x-python",
   "name": "python",
   "nbconvert_exporter": "python",
   "pygments_lexer": "ipython3",
   "version": "3.10.11"
  }
 },
 "nbformat": 4,
 "nbformat_minor": 2
}
