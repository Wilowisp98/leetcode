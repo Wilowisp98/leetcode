{
 "cells": [
  {
   "cell_type": "code",
   "execution_count": 18,
   "metadata": {},
   "outputs": [],
   "source": [
    "class Solution:\n",
    "    def search(self, nums, target):\n",
    "        \"\"\"\n",
    "        :type nums: List[int]\n",
    "        :type target: int\n",
    "        :rtype: int\n",
    "        \"\"\"\n",
    "        if not nums:\n",
    "            return -1\n",
    "        \n",
    "        l_pointer = 0\n",
    "        r_pointer = len(nums) - 1\n",
    "        \n",
    "        while l_pointer <= r_pointer:\n",
    "            mid = (l_pointer + r_pointer) // 2\n",
    "            \n",
    "            if nums[mid] == target:\n",
    "                return mid\n",
    "            \n",
    "            if nums[l_pointer] <= nums[mid]:\n",
    "                if nums[l_pointer] <= target < nums[mid]:\n",
    "                    r_pointer = mid - 1\n",
    "                else:\n",
    "                    l_pointer = mid + 1\n",
    "\n",
    "            else:\n",
    "                if nums[mid] < target <= nums[r_pointer]:\n",
    "                    l_pointer = mid + 1\n",
    "                else:\n",
    "                    r_pointer = mid - 1\n",
    "        \n",
    "        return -1"
   ]
  }
 ],
 "metadata": {
  "kernelspec": {
   "display_name": "Python 3",
   "language": "python",
   "name": "python3"
  },
  "language_info": {
   "codemirror_mode": {
    "name": "ipython",
    "version": 3
   },
   "file_extension": ".py",
   "mimetype": "text/x-python",
   "name": "python",
   "nbconvert_exporter": "python",
   "pygments_lexer": "ipython3",
   "version": "3.11.3"
  }
 },
 "nbformat": 4,
 "nbformat_minor": 2
}
