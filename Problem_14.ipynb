{
 "cells": [
  {
   "cell_type": "code",
   "execution_count": 2,
   "metadata": {},
   "outputs": [],
   "source": [
    "class Solution:\n",
    "    def longestCommonPrefix(self, strs: list[str]) -> str:\n",
    "        if not strs:\n",
    "            return \"\"\n",
    "\n",
    "        iter = 0\n",
    "        max_len = 0\n",
    "\n",
    "        try:\n",
    "            while True:\n",
    "                letter = strs[0][iter]\n",
    "\n",
    "                for word in strs[1:]:\n",
    "                    if iter >= len(word) or word[iter] != letter:\n",
    "                        return strs[0][:max_len]\n",
    "\n",
    "                max_len += 1\n",
    "                iter += 1\n",
    "\n",
    "        except IndexError:\n",
    "            return strs[0][:max_len]"
   ]
  },
  {
   "cell_type": "code",
   "execution_count": 5,
   "metadata": {},
   "outputs": [
    {
     "data": {
      "text/plain": [
       "'fl'"
      ]
     },
     "execution_count": 5,
     "metadata": {},
     "output_type": "execute_result"
    }
   ],
   "source": [
    "teste = Solution()\n",
    "teste.longestCommonPrefix([\"flower\",\"flow\",\"flight\"])"
   ]
  }
 ],
 "metadata": {
  "kernelspec": {
   "display_name": "Python 3",
   "language": "python",
   "name": "python3"
  },
  "language_info": {
   "codemirror_mode": {
    "name": "ipython",
    "version": 3
   },
   "file_extension": ".py",
   "mimetype": "text/x-python",
   "name": "python",
   "nbconvert_exporter": "python",
   "pygments_lexer": "ipython3",
   "version": "3.11.3"
  }
 },
 "nbformat": 4,
 "nbformat_minor": 2
}
