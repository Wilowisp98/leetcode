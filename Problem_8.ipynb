{
 "cells": [
  {
   "cell_type": "code",
   "execution_count": 164,
   "metadata": {},
   "outputs": [],
   "source": [
    "class Solution:\n",
    "    def myAtoi(self, s: str) -> int:\n",
    "\n",
    "        if s == '':\n",
    "            return 0\n",
    "        \n",
    "        l_limit = (2**31) * (-1)\n",
    "        u_limit = (2**31) - 1\n",
    "\n",
    "        word = self.trim(s)\n",
    "        sign, word = self.sign(word)\n",
    "\n",
    "        if not word or not word[0].isnumeric():\n",
    "            return 0\n",
    "        \n",
    "        pointer = 0\n",
    "        while pointer + 1 < len(word):\n",
    "\n",
    "            if word[pointer + 1].isnumeric():\n",
    "                pointer += 1\n",
    "            else:\n",
    "                break\n",
    "\n",
    "        if sign * int(word[0:pointer + 1]) < l_limit:\n",
    "            return l_limit\n",
    "        elif sign * int(word[0:pointer + 1]) > u_limit:\n",
    "            return u_limit\n",
    "        else:\n",
    "            return sign * int(word[0:pointer + 1])\n",
    "\n",
    "    def trim(self, word):\n",
    "\n",
    "        pointer = 0\n",
    "        for i in word:\n",
    "            if i == ' ':\n",
    "                pointer += 1\n",
    "            else:\n",
    "                break \n",
    "        word = word[pointer:]\n",
    "        return word\n",
    "                \n",
    "    def sign(self, word):\n",
    "        if not word:\n",
    "            return 1, word\n",
    "\n",
    "        if word[0] == '-':\n",
    "            return -1, word[1:]\n",
    "        elif word[0] == '+':\n",
    "            return 1, word[1:]\n",
    "        else:\n",
    "            return 1, word"
   ]
  }
 ],
 "metadata": {
  "kernelspec": {
   "display_name": "Python 3",
   "language": "python",
   "name": "python3"
  },
  "language_info": {
   "codemirror_mode": {
    "name": "ipython",
    "version": 3
   },
   "file_extension": ".py",
   "mimetype": "text/x-python",
   "name": "python",
   "nbconvert_exporter": "python",
   "pygments_lexer": "ipython3",
   "version": "3.10.11"
  }
 },
 "nbformat": 4,
 "nbformat_minor": 2
}
