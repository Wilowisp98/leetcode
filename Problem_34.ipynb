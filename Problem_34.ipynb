{
 "cells": [
  {
   "cell_type": "code",
   "execution_count": null,
   "metadata": {},
   "outputs": [],
   "source": [
    "class Solution:\n",
    "    def binary_search(self, nums, target, which_way):\n",
    "\n",
    "        l_pointer = 0\n",
    "        r_pointer = len(nums) - 1\n",
    "        index = -1\n",
    "\n",
    "        while l_pointer <= r_pointer:\n",
    "            mid = l_pointer + (r_pointer - l_pointer) // 2\n",
    "            if nums[mid] == target:\n",
    "                index = mid\n",
    "                if which_way == 'left':\n",
    "                    r_pointer = mid - 1\n",
    "                else:\n",
    "                    l_pointer = mid + 1 \n",
    "            elif nums[mid] < target:\n",
    "                l_pointer = mid + 1\n",
    "            else:\n",
    "                r_pointer = mid - 1\n",
    "        return index\n",
    "\n",
    "    def searchRange(self, nums, target):\n",
    "\n",
    "        first = self.binary_search(nums, target, 'left')\n",
    "        last = self.binary_search(nums, target, 'right')\n",
    "\n",
    "        return [first, last]"
   ]
  }
 ],
 "metadata": {
  "kernelspec": {
   "display_name": "Python 3",
   "language": "python",
   "name": "python3"
  },
  "language_info": {
   "codemirror_mode": {
    "name": "ipython",
    "version": 3
   },
   "file_extension": ".py",
   "mimetype": "text/x-python",
   "name": "python",
   "nbconvert_exporter": "python",
   "pygments_lexer": "ipython3",
   "version": "3.11.3"
  }
 },
 "nbformat": 4,
 "nbformat_minor": 2
}
