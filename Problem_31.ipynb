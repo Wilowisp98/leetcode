{
 "cells": [
  {
   "cell_type": "code",
   "execution_count": 22,
   "metadata": {},
   "outputs": [],
   "source": [
    "# FRIST SOLUTION\n",
    "\n",
    "class Solution(object):\n",
    "    def nextPermutation(self, nums):\n",
    "        \"\"\"\n",
    "        :type nums: List[int]\n",
    "        :rtype: None Do not return anything, modify nums in-place instead.\n",
    "        \"\"\"\n",
    "\n",
    "        r_pointer = len(nums) - 1\n",
    "        while r_pointer >= 1:\n",
    "            l_pointer = r_pointer - 1\n",
    "            while l_pointer >= 0:\n",
    "                if nums[l_pointer] < nums[r_pointer]:\n",
    "                    saved = nums[l_pointer]\n",
    "                    nums[l_pointer] = nums[r_pointer]\n",
    "                    nums[r_pointer] = saved\n",
    "                    return nums\n",
    "                l_pointer -= 1\n",
    "            r_pointer -= 1\n",
    "\n",
    "        nums.sort()\n",
    "        return nums"
   ]
  },
  {
   "cell_type": "code",
   "execution_count": null,
   "metadata": {},
   "outputs": [],
   "source": [
    "# SECOND SOLUTION\n",
    "\n",
    "class Solution(object):\n",
    "    def nextPermutation(self, nums):\n",
    "        \"\"\"\n",
    "        :type nums: List[int]\n",
    "        :rtype: None Do not return anything, modify nums in-place instead.\n",
    "        \"\"\"\n",
    "        i = len(nums) - 2\n",
    "        while i >= 0 and nums[i] >= nums[i+1]:\n",
    "            i -= 1\n",
    "        \n",
    "        if i >= 0:\n",
    "            j = len(nums) - 1\n",
    "            while j > i and nums[j] <= nums[i]:\n",
    "                j -= 1\n",
    "            \n",
    "            saved = nums[i]\n",
    "            nums[i] = nums[j]\n",
    "            nums[j] = saved\n",
    "        \n",
    "        left = i + 1\n",
    "        right = len(nums) - 1\n",
    "        while left < right:\n",
    "            saved = nums[left]\n",
    "            nums[left] = nums[right]\n",
    "            nums[right] = saved\n",
    "            left += 1\n",
    "            right -= 1"
   ]
  }
 ],
 "metadata": {
  "kernelspec": {
   "display_name": "Python 3",
   "language": "python",
   "name": "python3"
  },
  "language_info": {
   "codemirror_mode": {
    "name": "ipython",
    "version": 3
   },
   "file_extension": ".py",
   "mimetype": "text/x-python",
   "name": "python",
   "nbconvert_exporter": "python",
   "pygments_lexer": "ipython3",
   "version": "3.11.3"
  }
 },
 "nbformat": 4,
 "nbformat_minor": 2
}
