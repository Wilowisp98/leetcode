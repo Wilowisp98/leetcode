{
 "cells": [
  {
   "cell_type": "code",
   "execution_count": 12,
   "metadata": {},
   "outputs": [],
   "source": [
    "class Solution:\n",
    "    def removeNthFromEnd(self, head, n: int):\n",
    "        dummy = ListNode(0, head)\n",
    "        \n",
    "        l_pointer = dummy\n",
    "        r_pointer = head\n",
    "\n",
    "        for _ in range(n):\n",
    "            r_pointer = r_pointer.next\n",
    "\n",
    "        while r_pointer:\n",
    "            r_pointer = r_pointer.next\n",
    "            l_pointer = l_pointer.next\n",
    "        \n",
    "        l_pointer.next = l_pointer.next.next\n",
    "\n",
    "        return dummy.next"
   ]
  }
 ],
 "metadata": {
  "kernelspec": {
   "display_name": "Python 3",
   "language": "python",
   "name": "python3"
  },
  "language_info": {
   "codemirror_mode": {
    "name": "ipython",
    "version": 3
   },
   "file_extension": ".py",
   "mimetype": "text/x-python",
   "name": "python",
   "nbconvert_exporter": "python",
   "pygments_lexer": "ipython3",
   "version": "3.10.11"
  }
 },
 "nbformat": 4,
 "nbformat_minor": 2
}
