{
 "cells": [
  {
   "cell_type": "code",
   "execution_count": 13,
   "metadata": {},
   "outputs": [],
   "source": [
    "class Solution(object):\n",
    "    def longestPalindrome(self, s):\n",
    "        \"\"\"\n",
    "        :type s: str\n",
    "        :rtype: str\n",
    "        \"\"\"\n",
    "        \n",
    "        self.size = len(s)\n",
    "\n",
    "        moving_pointer_1 = 0\n",
    "        moving_pointer_2 = self.size - 1\n",
    "        \n",
    "        self.pal_size = self.countPal(s, moving_pointer_1, moving_pointer_2)\n",
    "\n",
    "        return self.pal_size\n",
    "    \n",
    "    def countPal(self, s, moving_pointer_1, moving_pointer_2):\n",
    "\n",
    "        print(moving_pointer_1, moving_pointer_2)\n",
    "\n",
    "        if moving_pointer_1 == moving_pointer_2 - 1 and s[moving_pointer_1] == s[moving_pointer_2]:\n",
    "            return 2\n",
    "        elif moving_pointer_1 == moving_pointer_2:\n",
    "            return 1\n",
    "        elif s[moving_pointer_1] == s[moving_pointer_2]:\n",
    "            return 2 + self.countPal(s, moving_pointer_1 + 1, moving_pointer_2 - 1)\n",
    "        else:\n",
    "            return max(self.countPal(s, moving_pointer_1 + 1, moving_pointer_2), self.countPal(s, moving_pointer_1, moving_pointer_2 - 1))"
   ]
  },
  {
   "cell_type": "code",
   "execution_count": 19,
   "metadata": {},
   "outputs": [
    {
     "name": "stdout",
     "output_type": "stream",
     "text": [
      "0 7\n",
      "1 6\n",
      "2 6\n",
      "3 6\n",
      "4 6\n",
      "5 6\n",
      "6 6\n",
      "5 5\n",
      "4 5\n",
      "3 5\n",
      "4 5\n",
      "3 4\n",
      "4 4\n",
      "3 3\n",
      "2 5\n",
      "3 4\n",
      "4 4\n",
      "3 3\n",
      "1 5\n",
      "2 4\n",
      "3 3\n"
     ]
    },
    {
     "data": {
      "text/plain": [
       "7"
      ]
     },
     "execution_count": 19,
     "metadata": {},
     "output_type": "execute_result"
    }
   ],
   "source": [
    "teste = Solution()\n",
    "teste.longestPalindrome('aaacaaba')"
   ]
  }
 ],
 "metadata": {
  "kernelspec": {
   "display_name": "Python 3",
   "language": "python",
   "name": "python3"
  },
  "language_info": {
   "codemirror_mode": {
    "name": "ipython",
    "version": 3
   },
   "file_extension": ".py",
   "mimetype": "text/x-python",
   "name": "python",
   "nbconvert_exporter": "python",
   "pygments_lexer": "ipython3",
   "version": "3.11.3"
  }
 },
 "nbformat": 4,
 "nbformat_minor": 2
}
