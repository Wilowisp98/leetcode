{
 "cells": [
  {
   "cell_type": "code",
   "execution_count": 196,
   "metadata": {},
   "outputs": [],
   "source": [
    "# FIRST SOLUTION (It sucks)\n",
    "\n",
    "class Solution(object):\n",
    "    def longestPalindrome(self, s):\n",
    "        \"\"\"\n",
    "        :type s: str\n",
    "        :rtype: str\n",
    "        \"\"\"\n",
    "        \n",
    "        if s == '':\n",
    "            return ''\n",
    "        \n",
    "        word_size = len(s)\n",
    "\n",
    "        if word_size == 1:\n",
    "            return s\n",
    "        \n",
    "        max_pal_size = 1\n",
    "        max_pal = ''\n",
    "\n",
    "        for i in range(0, word_size):\n",
    "            for j in range(i + 1, word_size + 1):\n",
    "                if self.is_palindrome(s[i:j]) and j-i >= max_pal_size:\n",
    "                    max_pal_size = j-i\n",
    "                    max_pal = s[i:j]\n",
    "\n",
    "        return max_pal               \n",
    "\n",
    "    def is_palindrome(self, word):\n",
    "\n",
    "        reverse_word = ''\n",
    "        word_size = len(word)\n",
    "        counter = word_size - 1\n",
    "\n",
    "        if word_size % 2 == 0:\n",
    "            add = 1\n",
    "        else:\n",
    "            add = 0\n",
    "\n",
    "        while counter > (word_size // 2) - add:\n",
    "            reverse_word += word[counter]\n",
    "            counter -= 1\n",
    "\n",
    "        if reverse_word == word[:counter + add]:\n",
    "            return True\n",
    "        else:\n",
    "            return False"
   ]
  },
  {
   "cell_type": "code",
   "execution_count": 200,
   "metadata": {},
   "outputs": [],
   "source": [
    "# SECOND SOLUTION - EXPAND\n",
    "\n",
    "class Solution:\n",
    "    def longestPalindrome(self, s: str) -> str:\n",
    "        if s == s[::-1]:\n",
    "            return s\n",
    "        t, n = 0, 1\n",
    "        for i in range(1, len(s)):\n",
    "            l, r = i - n, i + 1\n",
    "            s1 = s[l-1 : r]\n",
    "            if l >= 1 and s1 == s1[::-1]:\n",
    "                n += 2\n",
    "                t = l - 1\n",
    "            else:\n",
    "                s2 = s[l:r]\n",
    "                if s2 == s2[::-1]:\n",
    "                    n += 1\n",
    "                    t = l\n",
    "        return s[t:t+n]"
   ]
  },
  {
   "cell_type": "code",
   "execution_count": 205,
   "metadata": {},
   "outputs": [
    {
     "data": {
      "text/plain": [
       "'1'"
      ]
     },
     "execution_count": 205,
     "metadata": {},
     "output_type": "execute_result"
    }
   ],
   "source": [
    "a = '1234'\n",
    "b = a[0:1]\n",
    "b[::-1]"
   ]
  }
 ],
 "metadata": {
  "kernelspec": {
   "display_name": "Python 3",
   "language": "python",
   "name": "python3"
  },
  "language_info": {
   "codemirror_mode": {
    "name": "ipython",
    "version": 3
   },
   "file_extension": ".py",
   "mimetype": "text/x-python",
   "name": "python",
   "nbconvert_exporter": "python",
   "pygments_lexer": "ipython3",
   "version": "3.10.11"
  }
 },
 "nbformat": 4,
 "nbformat_minor": 2
}
