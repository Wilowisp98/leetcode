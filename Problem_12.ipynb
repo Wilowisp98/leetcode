{
 "cells": [
  {
   "cell_type": "code",
   "execution_count": 81,
   "metadata": {},
   "outputs": [],
   "source": [
    "class Solution:\n",
    "    def intToRoman(self, num: int) -> str:\n",
    "\n",
    "        self.rosetta = {1000 : 'M',\n",
    "                        900 : 'CM',\n",
    "                        500 : 'D', \n",
    "                        400 : 'CD',\n",
    "                        100 : 'C', \n",
    "                        90 : 'XC',\n",
    "                        50 : 'L',\n",
    "                        40 : 'XL',  \n",
    "                        10 : 'X',\n",
    "                        9 : 'IX',   \n",
    "                        5 : 'V',\n",
    "                        4 : 'IV',\n",
    "                        1 : 'I'}\n",
    "\n",
    "        self.rosetta_list = list(self.rosetta)\n",
    "\n",
    "        roman_number = ''\n",
    "        \n",
    "        for i in range(0, len(self.rosetta_list)):\n",
    "\n",
    "            if num // self.rosetta_list[i] != 0:\n",
    "\n",
    "                roman_number += self.add_letters(i, num // self.rosetta_list[i])\n",
    "                num = num - (num // self.rosetta_list[i]) * self.rosetta_list[i]\n",
    "\n",
    "        return roman_number\n",
    "    \n",
    "    def add_letters(self, iter, num):\n",
    "\n",
    "        text = ''\n",
    "        for _ in range(0,num):\n",
    "            text += str(self.rosetta[self.rosetta_list[iter]])\n",
    "        return text"
   ]
  },
  {
   "cell_type": "code",
   "execution_count": 80,
   "metadata": {},
   "outputs": [
    {
     "data": {
      "text/plain": [
       "'LVIII'"
      ]
     },
     "execution_count": 80,
     "metadata": {},
     "output_type": "execute_result"
    }
   ],
   "source": [
    "teste = Solution()\n",
    "teste.intToRoman(58)"
   ]
  }
 ],
 "metadata": {
  "kernelspec": {
   "display_name": "Python 3",
   "language": "python",
   "name": "python3"
  },
  "language_info": {
   "codemirror_mode": {
    "name": "ipython",
    "version": 3
   },
   "file_extension": ".py",
   "mimetype": "text/x-python",
   "name": "python",
   "nbconvert_exporter": "python",
   "pygments_lexer": "ipython3",
   "version": "3.11.3"
  }
 },
 "nbformat": 4,
 "nbformat_minor": 2
}
