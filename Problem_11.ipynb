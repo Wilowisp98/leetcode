{
 "cells": [
  {
   "cell_type": "code",
   "execution_count": null,
   "metadata": {},
   "outputs": [],
   "source": [
    "class Solution:\n",
    "    def maxArea(self, height: List[int]) -> int:\n",
    "        height = [1,8,6,2,5,4,8,3,7]\n",
    "\n",
    "        p1 = 0\n",
    "        p2 = len(height) - 1\n",
    "\n",
    "        max_area = self.calc_area(height[p1], height[p2], p1, p2)\n",
    "\n",
    "        while p1 != p2:\n",
    "        \n",
    "            if height[p1] <= height[p2]:\n",
    "                p1 += 1\n",
    "\n",
    "            elif height[p1] > height[p2]:\n",
    "                p2 -= 1\n",
    "\n",
    "            max_area = max(max_area, self.calc_area(height[p1], height[p2], p1, p2))\n",
    "    \n",
    "        return max_area\n",
    "\n",
    "    def calc_area(self, b1, b2, p1, p2):\n",
    "    \n",
    "        return (min(b1,b2) * (p2 - p1))"
   ]
  }
 ],
 "metadata": {
  "kernelspec": {
   "display_name": "Python 3",
   "language": "python",
   "name": "python3"
  },
  "language_info": {
   "codemirror_mode": {
    "name": "ipython",
    "version": 3
   },
   "file_extension": ".py",
   "mimetype": "text/x-python",
   "name": "python",
   "nbconvert_exporter": "python",
   "pygments_lexer": "ipython3",
   "version": "3.11.3"
  }
 },
 "nbformat": 4,
 "nbformat_minor": 2
}
