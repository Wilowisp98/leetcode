{
 "cells": [
  {
   "cell_type": "code",
   "execution_count": 16,
   "metadata": {},
   "outputs": [],
   "source": [
    "# FIRST SOLUTION\n",
    "\n",
    "class Solution(object):\n",
    "    def divide(self, dividend, divisor):\n",
    "        \"\"\"\n",
    "        :type dividend: int\n",
    "        :type divisor: int\n",
    "        :rtype: int\n",
    "        \"\"\"\n",
    "        \n",
    "        if abs(dividend) < abs(divisor):\n",
    "            return 0\n",
    "        \n",
    "        if dividend * divisor > 0:\n",
    "            mult = 1\n",
    "        else:\n",
    "            mult = -1\n",
    "\n",
    "        dividend = self.env_rest(dividend)\n",
    "        divisor = self.env_rest(divisor)\n",
    "\n",
    "        iter = 1\n",
    "        while abs(dividend) >= abs(divisor) * iter:\n",
    "            iter += 1\n",
    "        \n",
    "        return self.env_rest((iter - 1) * mult)\n",
    "    \n",
    "    def env_rest(self, number):\n",
    "\n",
    "        if number < -1 * (2**31):\n",
    "            return -1 * (2**31)\n",
    "        elif number > (2**31) + 1:\n",
    "            return (2**31) + 1\n",
    "        else:\n",
    "            return number"
   ]
  },
  {
   "cell_type": "code",
   "execution_count": 17,
   "metadata": {},
   "outputs": [
    {
     "data": {
      "text/plain": [
       "1"
      ]
     },
     "execution_count": 17,
     "metadata": {},
     "output_type": "execute_result"
    }
   ],
   "source": [
    "teste = Solution()\n",
    "teste.divide(1,1)"
   ]
  }
 ],
 "metadata": {
  "kernelspec": {
   "display_name": "Python 3",
   "language": "python",
   "name": "python3"
  },
  "language_info": {
   "codemirror_mode": {
    "name": "ipython",
    "version": 3
   },
   "file_extension": ".py",
   "mimetype": "text/x-python",
   "name": "python",
   "nbconvert_exporter": "python",
   "pygments_lexer": "ipython3",
   "version": "3.10.11"
  }
 },
 "nbformat": 4,
 "nbformat_minor": 2
}
