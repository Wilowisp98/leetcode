{
 "cells": [
  {
   "cell_type": "code",
   "execution_count": 55,
   "metadata": {},
   "outputs": [],
   "source": [
    "# FIRST VERSION\n",
    "\n",
    "class Solution:\n",
    "    def reverse(self, x: int) -> int:\n",
    "        \n",
    "        l_limit = (2**31) * (-1)\n",
    "        u_limit = (2**31) - 1\n",
    "\n",
    "        reversed = 0\n",
    "        \n",
    "        if x < 0:\n",
    "            x *= -1\n",
    "            negative = True\n",
    "        else:\n",
    "            negative = False\n",
    "\n",
    "        while x != 0:\n",
    "            \n",
    "            reversed = reversed * 10 + x % 10\n",
    "\n",
    "            x = x // 10\n",
    "        \n",
    "        if reversed >= l_limit and reversed <= u_limit:\n",
    "            if negative:\n",
    "                return reversed * (-1)\n",
    "            else:\n",
    "                return reversed\n",
    "        else:\n",
    "            return 0"
   ]
  },
  {
   "cell_type": "code",
   "execution_count": 72,
   "metadata": {},
   "outputs": [],
   "source": [
    "# SECOND VERSION\n",
    "\n",
    "class Solution:\n",
    "    def reverse(self, x: int) -> int:\n",
    "        \n",
    "        l_limit = (2**31) * (-1)\n",
    "        u_limit = (2**31) - 1\n",
    "\n",
    "        reversed = 0\n",
    "        \n",
    "        if x < 0:\n",
    "            sign = -1\n",
    "        else:\n",
    "            sign = 1\n",
    "\n",
    "        x = abs(x)\n",
    "\n",
    "        while x != 0:\n",
    "            \n",
    "            reversed = reversed * 10 + x % 10\n",
    "\n",
    "            x = x // 10\n",
    "        \n",
    "        reversed *= sign\n",
    "        if reversed >= l_limit and reversed <= u_limit:\n",
    "            return reversed\n",
    "        else:\n",
    "            return 0"
   ]
  }
 ],
 "metadata": {
  "kernelspec": {
   "display_name": "Python 3",
   "language": "python",
   "name": "python3"
  },
  "language_info": {
   "codemirror_mode": {
    "name": "ipython",
    "version": 3
   },
   "file_extension": ".py",
   "mimetype": "text/x-python",
   "name": "python",
   "nbconvert_exporter": "python",
   "pygments_lexer": "ipython3",
   "version": "3.10.11"
  }
 },
 "nbformat": 4,
 "nbformat_minor": 2
}
