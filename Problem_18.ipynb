{
 "cells": [
  {
   "cell_type": "code",
   "execution_count": 39,
   "metadata": {},
   "outputs": [],
   "source": [
    "class Solution:\n",
    "    def fourSum(self, nums: list[int], target: int) -> list[list[int]]:\n",
    "        \n",
    "        if len(nums) < 4:\n",
    "            return []\n",
    "        \n",
    "        nums.sort()\n",
    "\n",
    "        iter_1 = 0\n",
    "\n",
    "        final_list = []\n",
    "\n",
    "        while iter_1 != len(nums) - 3:\n",
    "            \n",
    "            iter_2 = iter_1 + 1\n",
    "\n",
    "            while iter_2 != len(nums) - 2:\n",
    "                \n",
    "                l_pointer = iter_2 + 1\n",
    "                r_pointer = len(nums) - 1\n",
    "\n",
    "                while l_pointer != r_pointer:\n",
    "\n",
    "                    if nums[iter_1] + nums[iter_2] + nums[l_pointer] + nums[r_pointer] == target:\n",
    "\n",
    "                        final_list.append([nums[iter_1], nums[iter_2], nums[l_pointer], nums[r_pointer]])\n",
    "\n",
    "                        l_pointer += 1\n",
    "\n",
    "                        while nums[l_pointer] == nums[l_pointer - 1] and l_pointer != r_pointer:\n",
    "                            l_pointer += 1\n",
    "\n",
    "                    elif nums[iter_1] + nums[iter_2] + nums[l_pointer] + nums[r_pointer] < target:\n",
    "                        l_pointer += 1 \n",
    "                    else:\n",
    "                        r_pointer -= 1\n",
    "\n",
    "                iter_2 += 1\n",
    "                while nums[iter_2] == nums[iter_2 - 1] and iter_2 != len(nums) - 2:\n",
    "                    iter_2 += 1\n",
    "\n",
    "            iter_1 += 1\n",
    "            while nums[iter_1] == nums[iter_1 - 1] and iter_1 != len(nums) - 3:\n",
    "                iter_1 += 1\n",
    "\n",
    "        return final_list"
   ]
  }
 ],
 "metadata": {
  "kernelspec": {
   "display_name": "Python 3",
   "language": "python",
   "name": "python3"
  },
  "language_info": {
   "codemirror_mode": {
    "name": "ipython",
    "version": 3
   },
   "file_extension": ".py",
   "mimetype": "text/x-python",
   "name": "python",
   "nbconvert_exporter": "python",
   "pygments_lexer": "ipython3",
   "version": "3.10.11"
  }
 },
 "nbformat": 4,
 "nbformat_minor": 2
}
