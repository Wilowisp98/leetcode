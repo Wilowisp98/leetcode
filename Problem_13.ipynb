{
 "cells": [
  {
   "cell_type": "code",
   "execution_count": 4,
   "metadata": {},
   "outputs": [],
   "source": [
    "# FIRST SOLUTION\n",
    "\n",
    "class Solution:\n",
    "    def romanToInt(self, s: str) -> int:\n",
    "        \n",
    "        self.rosetta = {'I' : 1,\n",
    "                        'V' : 5,\n",
    "                        'X' : 10,\n",
    "                        'L' : 50,\n",
    "                        'C' : 100,\n",
    "                        'D' : 500,\n",
    "                        'M' : 1000}\n",
    "\n",
    "        previous_value = 0\n",
    "        current_value = 0\n",
    "\n",
    "        result = 0\n",
    "\n",
    "        for i in s:\n",
    "            \n",
    "            current_value = self.rosetta[i]\n",
    "\n",
    "            if current_value > previous_value:\n",
    "                result += current_value - (previous_value*2)\n",
    "            else:\n",
    "                result += current_value\n",
    "\n",
    "            previous_value = current_value\n",
    "            \n",
    "        return result"
   ]
  },
  {
   "cell_type": "code",
   "execution_count": 7,
   "metadata": {},
   "outputs": [
    {
     "data": {
      "text/plain": [
       "3"
      ]
     },
     "execution_count": 7,
     "metadata": {},
     "output_type": "execute_result"
    }
   ],
   "source": [
    "teste = Solution()\n",
    "teste.romanToInt('III')"
   ]
  }
 ],
 "metadata": {
  "kernelspec": {
   "display_name": "Python 3",
   "language": "python",
   "name": "python3"
  },
  "language_info": {
   "codemirror_mode": {
    "name": "ipython",
    "version": 3
   },
   "file_extension": ".py",
   "mimetype": "text/x-python",
   "name": "python",
   "nbconvert_exporter": "python",
   "pygments_lexer": "ipython3",
   "version": "3.11.3"
  }
 },
 "nbformat": 4,
 "nbformat_minor": 2
}
